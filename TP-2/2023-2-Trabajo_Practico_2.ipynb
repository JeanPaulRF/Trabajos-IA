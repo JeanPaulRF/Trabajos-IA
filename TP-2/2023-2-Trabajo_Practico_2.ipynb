{
 "cells": [
  {
   "cell_type": "markdown",
   "metadata": {
    "colab_type": "text",
    "id": "Y5zYLAE8LTvr"
   },
   "source": [
    "**Instituto Tecnológico de Costa Rica**\n",
    "\n",
    "**Escuela de Ingeniería en Computación**\n",
    "\n",
    "**Curso: Inteligencia Artificial**\n",
    "\n",
    "**Segundo Semestre 2023**\n",
    "\n",
    "**Profesor: Luis-Alexander Calvo-Valverde**\n",
    "\n",
    "**Trabajo Práctico:** 2\n",
    "\n",
    "**Datos de la entrega:** Lunes 23 de Octubre 2021, a más tardar a las 11:59 pm\n",
    "\n",
    "**Estudiantes:**\n",
    "- Estudiante_1\n",
    "- Estudiante_2\n",
    "\n",
    "\n",
    "\n"
   ]
  },
  {
   "cell_type": "markdown",
   "metadata": {},
   "source": [
    "___\n",
    "\n",
    "# Parte 1  -  Regresión (50 puntos)\n",
    "___"
   ]
  },
  {
   "cell_type": "markdown",
   "metadata": {},
   "source": [
    "# Introducción\n",
    "\n",
    "Considere:\n",
    "- Se le proporciona un conjunto de datos (diamonds), si desea conocer un poco de los atributos puede consultar en: https://www.kaggle.com/datasets/shivam2503/diamonds\n",
    "- Note que en la página proporcionada se mencionan más atributos de los que contiene el archivo facilitado.  \n",
    "- El objetivo de esta parte es ver como el estudiante se enfrenta al proceso de pre-procesamiento, selección de atributos, predicción y evaluación.  Por eso es muy importante que documente en este cuaderno sus decisiones, eso se tomará muy en cuenta en la evaluación de su respuesta.\n",
    "- El atributo a predecir en regresión se denomina: price.\n",
    "- Debe comentar ampliamente su código\n"
   ]
  },
  {
   "cell_type": "code",
   "execution_count": null,
   "metadata": {},
   "outputs": [],
   "source": []
  },
  {
   "cell_type": "markdown",
   "metadata": {
    "id": "EH4wZ1YRAqxb"
   },
   "source": [
    "### 1 (5 puntos)\n",
    "- Cargue el archivo.\n",
    "- Utilice las herramientas (gráficos, funciones que describen contenido o características de las variables, etc) que considere necesarias para analizar los atributos que tiene el dataset y ver si tiene valores faltantes, valores atípicos, etc.\n",
    "- Comente sus conclusiones sobre los atritubos.\n"
   ]
  },
  {
   "cell_type": "code",
   "execution_count": null,
   "metadata": {
    "colab": {
     "base_uri": "https://localhost:8080/",
     "height": 141
    },
    "id": "BA-EP3RPAqxW",
    "outputId": "c3e3e79f-0f8b-4c02-b13b-c9e2882d02d9"
   },
   "outputs": [],
   "source": []
  },
  {
   "cell_type": "markdown",
   "metadata": {
    "id": "9tNVtXGvAqxe"
   },
   "source": [
    "### 2 (5 puntos)\n",
    "- Se utilizará el modelo Train/Validation (70%)  y Test (30%). \n",
    "- Comente su decisión sobre los parámetros shuffle y random_state\n",
    "- Separe  los  conjuntos de datos (70-30) (X_trainVal, X_test, y_trainVal, y_test )\n",
    "- Muestre los primeros 5 registros de cada conjunto.\n"
   ]
  },
  {
   "cell_type": "code",
   "execution_count": null,
   "metadata": {
    "colab": {
     "base_uri": "https://localhost:8080/",
     "height": 52
    },
    "id": "Leqk_YXcAqxe",
    "outputId": "4e0009cf-6707-4bd8-95cb-d84fa3c3db81"
   },
   "outputs": [],
   "source": []
  },
  {
   "cell_type": "markdown",
   "metadata": {
    "id": "miPS0QToAqxi"
   },
   "source": [
    "### 3  (10 puntos)\n",
    "- Preprocese los atributos (Solo deje para más adelante escalar los datos).\n",
    "- Debe comentar en celdas del texto el por qué seleccionó las técnicas utilizadas."
   ]
  },
  {
   "cell_type": "code",
   "execution_count": null,
   "metadata": {
    "colab": {
     "base_uri": "https://localhost:8080/",
     "height": 265
    },
    "id": "aNmBM81JAqxj",
    "outputId": "c19f542b-ea68-4a39-b0b6-6a966b3e3749"
   },
   "outputs": [],
   "source": []
  },
  {
   "cell_type": "markdown",
   "metadata": {
    "id": "F2aijX35Aqxm"
   },
   "source": [
    "### 4 (5 puntos)\n",
    "- Realice selección de atributos.\n",
    "- Debe utilizar al menos una técnica para justificar su decisión (De entre los métodos: Filter, Wrapper, Embedded).\n",
    "- Comente sus conclusiones.\n"
   ]
  },
  {
   "cell_type": "code",
   "execution_count": null,
   "metadata": {
    "colab": {
     "base_uri": "https://localhost:8080/",
     "height": 123
    },
    "id": "hI1ridvAAqxn",
    "outputId": "7610cd1f-86ed-407e-bc55-fe7cbb03f59b"
   },
   "outputs": [],
   "source": []
  },
  {
   "cell_type": "markdown",
   "metadata": {
    "id": "97T8JyJoAqxq"
   },
   "source": [
    "### 1.5  (5 puntos)\n",
    "- Escale los datos.\n",
    "- Comente qué técnica utilizó y por qué.\n",
    "- Guarde el archivo ya pre-procesado con el nombre: \"'diamondsPROCESADO\"\n",
    "\n",
    "**Nota:** No olvide cómo manejará el \"bias\" (o agregar columna de unos, o si la implementación de los algoritmos que utilizará permiten indicarle que lo agregue).\n"
   ]
  },
  {
   "cell_type": "code",
   "execution_count": null,
   "metadata": {
    "colab": {
     "base_uri": "https://localhost:8080/",
     "height": 123
    },
    "id": "U7MXlIo7Aqxq",
    "outputId": "353bfc38-d68c-416d-ea56-4dac2c17dc2c"
   },
   "outputs": [],
   "source": []
  },
  {
   "cell_type": "markdown",
   "metadata": {
    "id": "7luDf08KAqxt"
   },
   "source": [
    "### 1.6 (15 puntos)\n",
    "Presente e implemente un diseño experimental que incluya:\n",
    "- Dos algoritmos diferentes:\n",
    "    - Uno será la regresión lineal de mínimos cuadrados sin regularización (OLSR).\n",
    "    - Usted eligirá un método más, que no sea de los vistos en clase. Si tiene dudas de si puede o no usar algún método, puede consultar al profesor. Para el segundo método deberá elegir al menos un hiperparámetro.\n",
    "    - Como el OLSR no tiene hiperparámetros, use todo el train/validation para entrenar. Para el otro método, debe usar ten-cross-validation para seleccionar al menos un hiperparámetro.\n",
    "    - Debe registrar las métricas RMSE y R2. Usted decide cuál de estas dos métricas usa para selecionar la mejor configuración (Justifique su selección).\n",
    "    \n",
    "**Nota:** Para el algoritmos seleccionados (no el OLSR) explique los parámetros que recibe según la biblioteca utilizada. \n",
    "    "
   ]
  },
  {
   "cell_type": "code",
   "execution_count": null,
   "metadata": {
    "colab": {
     "base_uri": "https://localhost:8080/",
     "height": 264
    },
    "id": "30z4eKbKAqxt",
    "outputId": "ca0fbf6a-0f32-4bd5-b75d-dec4a5831953"
   },
   "outputs": [],
   "source": []
  },
  {
   "cell_type": "markdown",
   "metadata": {
    "id": "hRSit4mpAqxv"
   },
   "source": [
    "### 1.7 (5 puntos)\n",
    "\n",
    "- Por medio de una tabla u otro método idóneo que Usted determine, resuma todos los resultados obtenidos (o la mayoría).\n",
    "- Grafique comparativamente los valores del real versus el predicho (test), de cada uno de los métodos utilizados.  \n",
    "- Qué conclusiones finales saca sobre los métodos usados como predictores."
   ]
  },
  {
   "cell_type": "code",
   "execution_count": null,
   "metadata": {
    "colab": {
     "base_uri": "https://localhost:8080/",
     "height": 281
    },
    "id": "0bn7ujBQAqxw",
    "outputId": "9b4cccb3-5be5-465c-ed78-9580132bdb5d"
   },
   "outputs": [],
   "source": []
  },
  {
   "cell_type": "markdown",
   "metadata": {},
   "source": [
    "___\n",
    "\n",
    "# Parte 2  -  Clasificación (50 puntos)\n",
    "___"
   ]
  },
  {
   "cell_type": "markdown",
   "metadata": {},
   "source": [
    "### Considere lo siguiente:\n",
    "1. Conjunto de datos: **cardio.csv**\n",
    "1. Algunos detalles del conjunto de datos los puede ver en: https://www.kaggle.com/datasets/sulianova/cardiovascular-disease-dataset.  **Pero debe usar el conjunto de datos que se le dan adjuntos a este Trabajo Práctico, no descargar otro**.\n",
    "1. El atributo a predecir es: **cardio**.\n",
    "1. Proponga al menos dos algoritmos a utilizar\n",
    "1. Métricas:\n",
    "    1. Accuracy\n",
    "    1. Ustedes propongan una más.\n",
    "1. Debe presentar en este cuaderno:\n",
    "    1. Pre-procesamiento de los datos, explicando las decisiones en cada caso.\n",
    "    1. Para cada uno de los algoritmos seleccionados: \n",
    "        1. Explicación del algoritmo.\n",
    "        1. Explicación de la implementación seleccionada y de sus parámetros (según la biblioteca).\n",
    "    1. Explicación del diseño experimental por ejecutar. Recuerde que si el algoritmo requiere seleccionar hyperparámetros, hay que dividir en tres conjuntos de datos: Training, Validation, Testing (60%, 20%, 20%). Se le recomienda confirmar con el profesor cuántos y cuáles hyperparámetros validar.\n",
    "    1. Programación del diseño experimental. \n",
    "    1. Tablas de resultados, gráficos y conclusiones de los resultados, recomendando a su contratante cuál algoritmo utilizar, con qué configuración y por qué lo recomienda. "
   ]
  },
  {
   "cell_type": "code",
   "execution_count": null,
   "metadata": {},
   "outputs": [],
   "source": []
  }
 ],
 "metadata": {
  "colab": {
   "collapsed_sections": [],
   "name": "Evaluación_01.ipynb",
   "provenance": []
  },
  "kernelspec": {
   "display_name": "Python 3 (ipykernel)",
   "language": "python",
   "name": "python3"
  },
  "language_info": {
   "codemirror_mode": {
    "name": "ipython",
    "version": 3
   },
   "file_extension": ".py",
   "mimetype": "text/x-python",
   "name": "python",
   "nbconvert_exporter": "python",
   "pygments_lexer": "ipython3",
   "version": "3.9.13"
  }
 },
 "nbformat": 4,
 "nbformat_minor": 1
}
