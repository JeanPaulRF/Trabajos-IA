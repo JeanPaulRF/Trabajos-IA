{
  "cells": [
    {
      "cell_type": "markdown",
      "metadata": {
        "id": "Y5zYLAE8LTvr"
      },
      "source": [
        "**Instituto Tecnológico de Costa Rica**\n",
        "\n",
        "**Escuela de Ingeniería en Computación**\n",
        "\n",
        "**Curso: Inteligencia Artificial**\n",
        "\n",
        "**Segundo Semestre 2023**\n",
        "\n",
        "**Profesor: Luis-Alexander Calvo-Valverde**\n",
        "\n",
        "**Trabajo Práctico:** 3\n",
        "\n",
        "**Datos de la entrega:** Lunes 20 de noviembre 2023, a más tardar a las 11:59 pm\n",
        "\n",
        "**Estudiantes:**\n",
        "- Valeria Prado Rodríguez\n",
        "- Jean Paul Rodríguez Flores\n"
      ]
    },
    {
      "cell_type": "markdown",
      "metadata": {
        "id": "oADkSnEZrvyz"
      },
      "source": [
        "# Experimentación con regresión en redes neuronales artificiales\n",
        "\n",
        "Indicaciones generales que deben seguir:\n",
        "1. Se le proporciona el conjunto de datos y un archivo de texto con una breve explicación de las columnas (esta es la versión del dataset que debe usar, no busque similares en internet).\n",
        "1. Realizarán regresión y el atributo a predecir es: **price**.\n",
        "1. Ustedes deben ir tomando las decisiones en el proceso y documentarlas en celdas de texto y además su código debe venir ampliamente comentado. Recuerden que el profesor hace de cliente por si tienen dudas.\n",
        "1. Deben dividir el dataset en tres conjuntos de datos: train (60%), validation (20%) y test (20%).\n",
        "1. Ustedes proponen el diseño experimental (quiero ver qué han entendido de este concepto fundamental en data science).\n",
        "1. Deben utilizar **una de estas dos herramientas** para dar seguimiento a los resultados en el caso de la red neuronal artificial:\n",
        "    1. https://www.wandb.com/\n",
        "    1. https://www.comet.ml/site/\n",
        "\n",
        "\n",
        "Criterios de evaluación:\n",
        "1. Deben presentar una implementación completa, en una de estas opciones: pytorch, tensorflow o keras (Claro que pueden usar numpy, pandas y otras bibliotecas más, para todo el tema de carga del dataset, analizarlo y pre-procesarlo). (**55 puntos**)\n",
        "1. Uso de herramienta de seguimiento de resultados. (**10 puntos**)\n",
        "1. Documentación de decisiones en celdas de texto y comentarios al código. (**20 puntos**)\n",
        "1. Conclusiones finales: En una celda de texto al final del cuaderno, incluya sus conclusiones más importantes del experimento y algunos de los gráficos que genera la herramienta seleccionada, junto con su interpretación de los mismos. (**15 puntos**)"
      ]
    },
    {
      "cell_type": "markdown",
      "source": [
        "## 0. Imports"
      ],
      "metadata": {
        "id": "0ASqs9lucJTq"
      }
    },
    {
      "cell_type": "code",
      "source": [
        "import pandas as pd\n",
        "import numpy as np\n",
        "import matplotlib.pyplot as plt\n",
        "from sklearn.preprocessing import MinMaxScaler\n",
        "from sklearn.model_selection import train_test_split\n",
        "import tensorflow as tf\n",
        "from tensorflow import keras\n",
        "from tensorflow.keras import datasets\n",
        "from sklearn.model_selection import train_test_split\n",
        "from tensorflow.keras import models\n",
        "from tensorflow.keras import layers\n",
        "from sklearn.preprocessing import RobustScaler"
      ],
      "metadata": {
        "id": "q1uSPfJScTTR"
      },
      "execution_count": 43,
      "outputs": []
    },
    {
      "cell_type": "markdown",
      "source": [
        "## 1. Definicion del conjunto de datos de entrenamiento"
      ],
      "metadata": {
        "id": "2sz87WxTc4AX"
      }
    },
    {
      "cell_type": "markdown",
      "source": [
        "### 1.1. Importando el conjunto de datos"
      ],
      "metadata": {
        "id": "Ou95UMhKYEY1"
      }
    },
    {
      "cell_type": "code",
      "execution_count": 48,
      "metadata": {
        "id": "pQHQvbX0dEDF"
      },
      "outputs": [],
      "source": [
        "# leer los datos del archivo csv\n",
        "df = pd.read_csv('diamonds.csv')"
      ]
    },
    {
      "cell_type": "markdown",
      "source": [
        "### 1.2 Visualizando el conjunto de datos"
      ],
      "metadata": {
        "id": "f_MuUtZYl2Lr"
      }
    },
    {
      "cell_type": "code",
      "source": [
        "# Mostrar las primeras filas del DataFrame para verificar la carga\n",
        "print(df.head())\n",
        "\n",
        "# Mostrar información general sobre el DataFrame\n",
        "print(df.info())\n",
        "\n",
        "# Estadísticas descriptivas para atributos numéricos\n",
        "print(df.describe())\n",
        "\n",
        "columnas = ['carat', 'depth', 'table', 'x', 'y', 'z', 'cut', 'price']\n",
        "\n",
        "# Visualizar boxplots para identificar valores atípicos\n",
        "plt.figure(figsize=(10, 6))\n",
        "df[columnas].boxplot()\n",
        "plt.title('Boxplots de las Características')\n",
        "plt.ylabel('Valores')\n",
        "plt.xlabel('Características')\n",
        "plt.show()"
      ],
      "metadata": {
        "colab": {
          "base_uri": "https://localhost:8080/",
          "height": 1000
        },
        "id": "TaNumu96mGuc",
        "outputId": "987a7f20-145b-4ec7-a7a9-24fd7ecafb15"
      },
      "execution_count": 49,
      "outputs": [
        {
          "output_type": "stream",
          "name": "stdout",
          "text": [
            "   carat  depth  table  price     x     y     z  cut\n",
            "0   0.23   61.5   55.0    326  3.95  3.98  2.43    4\n",
            "1   0.21   59.8   61.0    326  3.89  3.84  2.31    3\n",
            "2   0.23   56.9   65.0    327  4.05  4.07  2.31    1\n",
            "3   0.29   62.4   58.0    334  4.20  4.23  2.63    3\n",
            "4   0.31   63.3   58.0    335  4.34  4.35  2.75    1\n",
            "<class 'pandas.core.frame.DataFrame'>\n",
            "RangeIndex: 53940 entries, 0 to 53939\n",
            "Data columns (total 8 columns):\n",
            " #   Column  Non-Null Count  Dtype  \n",
            "---  ------  --------------  -----  \n",
            " 0   carat   53940 non-null  float64\n",
            " 1   depth   53940 non-null  float64\n",
            " 2   table   53940 non-null  float64\n",
            " 3   price   53940 non-null  int64  \n",
            " 4   x       53940 non-null  float64\n",
            " 5   y       53940 non-null  float64\n",
            " 6   z       53940 non-null  float64\n",
            " 7   cut     53940 non-null  int64  \n",
            "dtypes: float64(6), int64(2)\n",
            "memory usage: 3.3 MB\n",
            "None\n",
            "              carat         depth         table         price             x  \\\n",
            "count  53940.000000  53940.000000  53940.000000  53940.000000  53940.000000   \n",
            "mean       0.797940     61.749405     57.457184   3932.799722      5.731157   \n",
            "std        0.474011      1.432621      2.234491   3989.439738      1.121761   \n",
            "min        0.200000     43.000000     43.000000    326.000000      0.000000   \n",
            "25%        0.400000     61.000000     56.000000    950.000000      4.710000   \n",
            "50%        0.700000     61.800000     57.000000   2401.000000      5.700000   \n",
            "75%        1.040000     62.500000     59.000000   5324.250000      6.540000   \n",
            "max        5.010000     79.000000     95.000000  18823.000000     10.740000   \n",
            "\n",
            "                  y             z           cut  \n",
            "count  53940.000000  53940.000000  53940.000000  \n",
            "mean       5.734526      3.538734      2.904097  \n",
            "std        1.142135      0.705699      1.116600  \n",
            "min        0.000000      0.000000      0.000000  \n",
            "25%        4.720000      2.910000      2.000000  \n",
            "50%        5.710000      3.530000      3.000000  \n",
            "75%        6.540000      4.040000      4.000000  \n",
            "max       58.900000     31.800000      4.000000  \n"
          ]
        },
        {
          "output_type": "display_data",
          "data": {
            "text/plain": [
              "<Figure size 1000x600 with 1 Axes>"
            ],
            "image/png": "[encoded data removed]"
          },
          "metadata": {}
        }
      ]
    },
    {
      "cell_type": "markdown",
      "source": [
        "### 1.3. Preprocesamiento del conjunto de datos"
      ],
      "metadata": {
        "id": "sPuXs8FumY-l"
      }
    },
    {
      "cell_type": "code",
      "source": [
        "# Tratar valores nulos si los hay\n",
        "df.dropna(inplace=True)\n",
        "\n",
        "# Codificar variables categóricas como números (por ejemplo, usando one-hot encoding para 'cut' y 'color')\n",
        "df = pd.get_dummies(df, columns=['cut'], drop_first=True)\n",
        "\n",
        "new_columnas = ['carat', 'depth', 'table', 'x', 'y', 'z', 'cut_1', 'cut_2', 'cut_3', 'cut_4', 'price']\n",
        "\n",
        "# Tratar lo valores atipicos\n",
        "df[new_columnas] = df[new_columnas].apply(lambda x: np.log1p(x))\n",
        "\n",
        "\n",
        "# Normalizar características ('carat', 'x', 'y', 'z', 'depth', 'table')\n",
        "scaler = MinMaxScaler()\n",
        "features_to_normalize = ['carat', 'x', 'y', 'z', 'depth', 'table']\n",
        "df[features_to_normalize] = scaler.fit_transform(df[features_to_normalize])"
      ],
      "metadata": {
        "id": "xuhJ5Oq-maUC"
      },
      "execution_count": 50,
      "outputs": []
    },
    {
      "cell_type": "markdown",
      "source": [
        "### 1.4 Division del conjunto de datos"
      ],
      "metadata": {
        "id": "D1nwj2JTmsgF"
      }
    },
    {
      "cell_type": "code",
      "source": [
        "# Conjunto X (sin price) y Y (solo price)\n",
        "X = df.drop('price', axis=1)\n",
        "y = df['price']\n",
        "\n",
        "# train de 60%\n",
        "X_train, X_temp, y_train, y_temp = train_test_split(X, y, test_size=0.4, random_state=42)\n",
        "# test y validation de 20%\n",
        "X_val, X_test, y_val, y_test = train_test_split(X_temp, y_temp, test_size=0.5, random_state=42)"
      ],
      "metadata": {
        "id": "KoGDvIHJmx5v"
      },
      "execution_count": 51,
      "outputs": []
    },
    {
      "cell_type": "markdown",
      "source": [
        "# 2. Definicion de la arquitectura de la Red Neuronal Artificial"
      ],
      "metadata": {
        "id": "MqxMfdWLYdRS"
      }
    },
    {
      "cell_type": "markdown",
      "source": [
        "### 2.1 Definimos una Red Neuronal Artificial formada por 3 capas:\n",
        "* La primera capa estará formada por 30 neuronas\n",
        "* La segunda capa estará formada por 10 neuronas\n",
        "* La última capa estará formada por 1 neurona"
      ],
      "metadata": {
        "id": "FZAzhyWYpkZh"
      }
    },
    {
      "cell_type": "code",
      "source": [
        "# creacion de la red\n",
        "network = models.Sequential()\n",
        "\n",
        "# capa de 30 neuronas\n",
        "network.add(layers.Dense(30, activation='relu', input_shape=X_train.shape[1:]))\n",
        "# capa de 10 neuronas\n",
        "network.add(layers.Dense(10, activation='relu'))\n",
        "# capa de 1 neurona\n",
        "network.add(layers.Dense(1, activation='linear'))"
      ],
      "metadata": {
        "id": "eGCwbs0gpp5n"
      },
      "execution_count": 52,
      "outputs": []
    },
    {
      "cell_type": "markdown",
      "source": [
        "Visualizar la red junto con el número total de parámetros utilizando el método *summary()*"
      ],
      "metadata": {
        "id": "wW7PycM9p_Tl"
      }
    },
    {
      "cell_type": "code",
      "source": [
        "network.summary()"
      ],
      "metadata": {
        "colab": {
          "base_uri": "https://localhost:8080/"
        },
        "id": "hbWlSksyqORg",
        "outputId": "916d76e1-0394-4f0e-ca1d-7db68958c2d3"
      },
      "execution_count": 53,
      "outputs": [
        {
          "output_type": "stream",
          "name": "stdout",
          "text": [
            "Model: \"sequential_1\"\n",
            "_________________________________________________________________\n",
            " Layer (type)                Output Shape              Param #   \n",
            "=================================================================\n",
            " dense_3 (Dense)             (None, 30)                330       \n",
            "                                                                 \n",
            " dense_4 (Dense)             (None, 10)                310       \n",
            "                                                                 \n",
            " dense_5 (Dense)             (None, 1)                 11        \n",
            "                                                                 \n",
            "=================================================================\n",
            "Total params: 651 (2.54 KB)\n",
            "Trainable params: 651 (2.54 KB)\n",
            "Non-trainable params: 0 (0.00 Byte)\n",
            "_________________________________________________________________\n"
          ]
        }
      ]
    },
    {
      "cell_type": "markdown",
      "source": [
        "### 2.2. Acceso a los elementos definidos de la RNA"
      ],
      "metadata": {
        "id": "pnkUjjA4qRkT"
      }
    },
    {
      "cell_type": "code",
      "source": [
        "network.layers"
      ],
      "metadata": {
        "colab": {
          "base_uri": "https://localhost:8080/"
        },
        "id": "4D2e0IPLqUXw",
        "outputId": "f483d011-5603-4ece-cd42-e67f46f4afae"
      },
      "execution_count": 54,
      "outputs": [
        {
          "output_type": "execute_result",
          "data": {
            "text/plain": [
              "[<keras.src.layers.core.dense.Dense at 0x797d202d8cd0>,\n",
              " <keras.src.layers.core.dense.Dense at 0x797dac6182e0>,\n",
              " <keras.src.layers.core.dense.Dense at 0x797dac618820>]"
            ]
          },
          "metadata": {},
          "execution_count": 54
        }
      ]
    },
    {
      "cell_type": "markdown",
      "source": [
        "Acceder a los parámetros del modelo que componen las neuronas de la primera hidden layer"
      ],
      "metadata": {
        "id": "K8_rvyMHqeqF"
      }
    },
    {
      "cell_type": "code",
      "source": [
        "hidden1 = network.layers[1]\n",
        "\n",
        "weights, biases = hidden1.get_weights()"
      ],
      "metadata": {
        "id": "i7mQd29nqlWZ"
      },
      "execution_count": 55,
      "outputs": []
    },
    {
      "cell_type": "markdown",
      "source": [
        "## 3. Configuracion de la Red Neuronal Artificial"
      ],
      "metadata": {
        "id": "Gnmywxzxq63w"
      }
    },
    {
      "cell_type": "code",
      "source": [
        "network.compile(loss='mean_squared_error',\n",
        "                optimizer='sgd')"
      ],
      "metadata": {
        "id": "0c6qRbtpq8nw"
      },
      "execution_count": 56,
      "outputs": []
    },
    {
      "cell_type": "markdown",
      "source": [
        "## 4. Preparacion del conjunto de datos"
      ],
      "metadata": {
        "id": "urH6bq6TrOW1"
      }
    },
    {
      "cell_type": "markdown",
      "source": [
        "### 4.1. Preparación de las características de entrada"
      ],
      "metadata": {
        "id": "ztr8GmiprQit"
      }
    },
    {
      "cell_type": "code",
      "source": [
        "scaler = RobustScaler()\n",
        "\n",
        "X_train_prep = scaler.fit_transform(X_train)\n",
        "X_val_prep = scaler.transform(X_val)\n",
        "X_test_prep = scaler.transform(X_test)"
      ],
      "metadata": {
        "id": "OowU9XnBrTdo"
      },
      "execution_count": 57,
      "outputs": []
    },
    {
      "cell_type": "markdown",
      "source": [
        "## 5. Entrenamiento de la Red Neuronal Artificial"
      ],
      "metadata": {
        "id": "RESvNClVrcoN"
      }
    },
    {
      "cell_type": "code",
      "source": [
        "history = network.fit(X_train_prep,\n",
        "                      y_train,\n",
        "                      epochs=5,\n",
        "                      validation_data=(X_val_prep, y_val))"
      ],
      "metadata": {
        "colab": {
          "base_uri": "https://localhost:8080/"
        },
        "id": "2EffC5J1riM1",
        "outputId": "f1954f6d-9273-4905-b5ea-32e693aa3428"
      },
      "execution_count": 58,
      "outputs": [
        {
          "output_type": "stream",
          "name": "stdout",
          "text": [
            "Epoch 1/5\n",
            "1012/1012 [==============================] - 6s 5ms/step - loss: 0.4809 - val_loss: 0.0722\n",
            "Epoch 2/5\n",
            "1012/1012 [==============================] - 4s 4ms/step - loss: 0.0719 - val_loss: 0.0669\n",
            "Epoch 3/5\n",
            "1012/1012 [==============================] - 6s 6ms/step - loss: 0.0674 - val_loss: 0.0769\n",
            "Epoch 4/5\n",
            "1012/1012 [==============================] - 4s 4ms/step - loss: 0.0657 - val_loss: 0.0687\n",
            "Epoch 5/5\n",
            "1012/1012 [==============================] - 4s 4ms/step - loss: 0.0644 - val_loss: 0.0648\n"
          ]
        }
      ]
    },
    {
      "cell_type": "markdown",
      "source": [
        "Visualizacion de la variable **history**\n"
      ],
      "metadata": {
        "id": "7l1t06X4r2Og"
      }
    },
    {
      "cell_type": "code",
      "source": [
        "pd.DataFrame(history.history).plot(figsize=(10, 7))\n",
        "plt.grid(True)\n",
        "plt.xlabel(\"epochs\")\n",
        "plt.ylabel(\"error\")\n",
        "plt.show()"
      ],
      "metadata": {
        "colab": {
          "base_uri": "https://localhost:8080/",
          "height": 622
        },
        "id": "Kebfz_VEr98-",
        "outputId": "8ac45cda-fc4e-43df-d989-860810954a56"
      },
      "execution_count": 59,
      "outputs": [
        {
          "output_type": "display_data",
          "data": {
            "text/plain": [
              "<Figure size 1000x700 with 1 Axes>"
            ],
            "image/png": "[encoded data removed]"
          },
          "metadata": {}
        }
      ]
    },
    {
      "cell_type": "markdown",
      "source": [
        "## 6. Validación con el conjunto de datos de pruebas"
      ],
      "metadata": {
        "id": "VLtay5WmsFGr"
      }
    },
    {
      "cell_type": "code",
      "source": [
        "test_loss = network.evaluate(X_test_prep, y_test)\n",
        "\n",
        "print('test_mse:', test_loss)\n",
        "\n",
        "print('test_rmse:', pow(test_loss,1/2))"
      ],
      "metadata": {
        "colab": {
          "base_uri": "https://localhost:8080/"
        },
        "id": "2lrC6v_0sG7x",
        "outputId": "2bfe2f60-bc09-40f1-9b8c-dec67bb2340c"
      },
      "execution_count": 60,
      "outputs": [
        {
          "output_type": "stream",
          "name": "stdout",
          "text": [
            "338/338 [==============================] - 1s 3ms/step - loss: 0.0626\n",
            "test_mse: 0.06260839104652405\n",
            "test_rmse: 0.25021668818550863\n"
          ]
        }
      ]
    },
    {
      "cell_type": "markdown",
      "source": [
        "## 7. Predicción de nuevos ejemplos"
      ],
      "metadata": {
        "id": "lzw4jGakso4J"
      }
    },
    {
      "cell_type": "code",
      "source": [
        "print(df.iloc[445])"
      ],
      "metadata": {
        "colab": {
          "base_uri": "https://localhost:8080/"
        },
        "id": "0O9u-HTEuHmD",
        "outputId": "410d3443-7a9c-4414-9d8e-2d368c36dad0"
      },
      "execution_count": 61,
      "outputs": [
        {
          "output_type": "stream",
          "name": "stdout",
          "text": [
            "carat    0.244734\n",
            "depth    0.584399\n",
            "table    0.331806\n",
            "price    7.943428\n",
            "x        0.784802\n",
            "y        0.473710\n",
            "z        0.439692\n",
            "cut_1    0.000000\n",
            "cut_2    0.693359\n",
            "cut_3    0.000000\n",
            "cut_4    0.000000\n",
            "Name: 445, dtype: float64\n"
          ]
        }
      ]
    },
    {
      "cell_type": "code",
      "source": [
        "# Suponemos que X_new es un nuevo ejemplo que el algoritmo no ha visto nunca\n",
        "X_new = X_test.iloc[445]\n",
        "\n",
        "# Representación gráfica del nuevo ejemplo que queremos predecir\n",
        "df_new = pd.DataFrame([X_new], columns=new_columnas[:-1])\n",
        "df_new.head()\n",
        "\n",
        "# Verifica las columnas presentes en df_new\n",
        "print(df_new.columns)\n",
        "\n",
        "# Preprocesamos el nuevo ejemplo que queremos predecir\n",
        "X_new_prep = scaler.transform(df_new)\n",
        "\n",
        "# Relizamos la prediccion\n",
        "y_predict = network.predict(X_new_prep)\n",
        "\n",
        "y_predict\n",
        "\n",
        "y_predict.round(2)\n",
        "\n",
        "# Comparamos la predicción con el valor original\n",
        "print(\"Predicción:\", y_predict.round(2))\n",
        "print(\"Valor original:\", y_test.iloc[445])"
      ],
      "metadata": {
        "colab": {
          "base_uri": "https://localhost:8080/"
        },
        "id": "0Z7MVnTTsqL1",
        "outputId": "5cce5757-2d33-4b9e-b7fa-ee1482d2732b"
      },
      "execution_count": 63,
      "outputs": [
        {
          "output_type": "stream",
          "name": "stdout",
          "text": [
            "Index(['carat', 'depth', 'table', 'x', 'y', 'z', 'cut_1', 'cut_2', 'cut_3',\n",
            "       'cut_4'],\n",
            "      dtype='object')\n",
            "1/1 [==============================] - 0s 117ms/step\n",
            "Predicción: [[6.74]]\n",
            "Valor original: 6.584791392385716\n"
          ]
        }
      ]
    },
    {
      "cell_type": "markdown",
      "source": [
        "## Conclusion"
      ],
      "metadata": {
        "id": "4l3dyZzDzujQ"
      }
    }
  ],
  "metadata": {
    "accelerator": "GPU",
    "colab": {
      "collapsed_sections": [
        "0cZIcQmV10yP",
        "u0L33gVhHfMs",
        "dVYU5SyYkcuU",
        "mcz7TgQPZdmr",
        "LqgP17uoZzMe",
        "YR2tjxxbZ444",
        "pW2aojDvaV1w",
        "LTCltRHMT-g9",
        "uCoSE0SYIA4Z"
      ],
      "provenance": []
    },
    "kernelspec": {
      "display_name": "Python 3 (ipykernel)",
      "language": "python",
      "name": "python3"
    },
    "language_info": {
      "codemirror_mode": {
        "name": "ipython",
        "version": 3
      },
      "file_extension": ".py",
      "mimetype": "text/x-python",
      "name": "python",
      "nbconvert_exporter": "python",
      "pygments_lexer": "ipython3",
      "version": "3.9.13"
    }
  },
  "nbformat": 4,
  "nbformat_minor": 0
}